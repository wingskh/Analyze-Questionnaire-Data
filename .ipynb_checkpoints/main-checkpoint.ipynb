{
 "cells": [
  {
   "cell_type": "code",
   "execution_count": 607,
   "metadata": {},
   "outputs": [],
   "source": [
    "import pandas as pd\n",
    "import numpy as np\n",
    "import seaborn as sns\n",
    "import os\n",
    "import sys\n",
    "import matplotlib\n",
    "import decimal\n",
    "from matplotlib import pyplot as plt\n",
    "from matplotlib import font_manager\n",
    "from matplotlib.colors import LogNorm"
   ]
  },
  {
   "cell_type": "code",
   "execution_count": 627,
   "metadata": {},
   "outputs": [],
   "source": [
    "def custom_round(x, base):\n",
    "    return base * int(decimal.Decimal(float(x)/base).quantize(decimal.Decimal('1'), rounding=decimal.ROUND_HALF_UP)) if not pd.isna(x) else x\n",
    "\n",
    "\n",
    "def plot_pie_chart(csv_pd, question_list,  header):\n",
    "    faculty_col = (6-csv_pd[header])\n",
    "    faculty_col = pd.Series(faculty_col.apply(lambda x: custom_round(x, base=0.5)))\n",
    "    faculty_dict = dict()\n",
    "\n",
    "    # plot pie chart\n",
    "    for i in faculty_col:\n",
    "        if not pd.isna(i):\n",
    "            if i in faculty_dict:\n",
    "                faculty_dict[i] += 1\n",
    "            else:\n",
    "                faculty_dict[i] = 1\n",
    "                \n",
    "    sum_of_response = 0\n",
    "    for key in faculty_dict:\n",
    "        sum_of_response += faculty_dict[key]\n",
    "    plt.pie([float(faculty_dict[v]) for v in faculty_dict], labels=[str(k) for k in faculty_dict], autopct='%1.2f%%')\n",
    "\n",
    "    plt.title(label=question_list[csv_pd.columns.get_loc(header)], fontsize=\"14\", fontstyle='italic')\n",
    "    plt.show()\n",
    "    print(sum_of_response)\n",
    "    print(faculty_dict)"
   ]
  },
  {
   "cell_type": "code",
   "execution_count": 553,
   "metadata": {},
   "outputs": [],
   "source": [
    "def cal_corelation(numeric_csv_file, title1, title2, question_list):\n",
    "    temp_df = numeric_csv_file[numeric_csv_file[title1].notna() & numeric_csv_file[title2].notna()]\n",
    "    correlation = temp_df[title1].corr(temp_df[title2])\n",
    "    return correlation"
   ]
  },
  {
   "cell_type": "code",
   "execution_count": 554,
   "metadata": {},
   "outputs": [],
   "source": [
    "def get_corr_matrix(corr_mat):\n",
    "    temp_question_list = []\n",
    "    \n",
    "    corr_mat = corr_mat.corr()\n",
    "    row_df = pd.DataFrame([pd.Series(temp_question_list)], index = [\"\"])\n",
    "    row_df.columns = corr_mat.columns\n",
    "    corr_mat = pd.concat([row_df, corr_mat], ignore_index=False)\n",
    "    corr_mat.insert(0, \"\", [\"\"]+temp_question_list, True)\n",
    "    \n",
    "    corr_mat.to_csv(os.path.join(os.getcwd(), \"corr_matrix.csv\"), encoding=\"utf_8_sig\")\n",
    "    display(corr_mat)\n",
    "    return corr_mat"
   ]
  },
  {
   "cell_type": "code",
   "execution_count": 427,
   "metadata": {},
   "outputs": [],
   "source": [
    "def merge_question_with_part(numeric_csv_file, question_list):\n",
    "    temp_matrix = numeric_csv_file.iloc[:, 18:]\n",
    "    temp_question_list = []\n",
    "    \n",
    "    for x in question_list[17:]:\n",
    "        if ' - ' not in x:\n",
    "            name = x\n",
    "        else:\n",
    "            name = list(x.split('-'))[0]\n",
    "            \n",
    "        name = name.strip()\n",
    "        if name not in temp_question_list:\n",
    "            temp_question_list.append(name)\n",
    "            \n",
    "    \n",
    "    temp_matrix.columns = [x+'_' if '_' not in x else x for x in temp_matrix.columns]\n",
    "    unique_cols = []\n",
    "    regex_list = [unique_cols.append(x[:x.index('_')+1]) for x in temp_matrix.columns if x[:x.index('_')+1] not in unique_cols]\n",
    "    corr_mat = pd.DataFrame()\n",
    "    \n",
    "    for i in unique_cols:\n",
    "        corr_mat[i] = temp_matrix.filter(regex=i).mean(1)\n",
    "        \n",
    "    corr_mat.columns = [x[:-1] for x in corr_mat.columns]\n",
    "    return corr_mat, temp_question_list"
   ]
  },
  {
   "cell_type": "code",
   "execution_count": 628,
   "metadata": {},
   "outputs": [],
   "source": [
    "def plot_correlation(numeric_csv_file, title1, title2, question_list):\n",
    "    correlation = cal_corelation(numeric_csv_file, title1, title2, question_list)\n",
    "    sns.set(style=\"ticks\", color_codes=True)\n",
    "    two_columns = numeric_csv_file[[title1, title2]].dropna()\n",
    "\n",
    "#     # Test for same column\n",
    "#     a = numeric_csv_file[[title1]]\n",
    "#     a.columns = ['Q1']\n",
    "#     a.insert(0, title1, True)\n",
    "    plt.rcParams['font.sans-serif'] = ['Microsoft JhengHei']\n",
    "    plt.rcParams['axes.unicode_minus'] = False\n",
    "#     a.dropna()\n",
    "    g = sns.pairplot(two_columns)\n",
    "    g.fig.suptitle(f'相關(correlation): {\"{:.5f}\".format(round(correlation, 5))}', fontsize=\"14\", color=\"g\", fontweight=\"bold\", style=\"italic\", fontstyle='italic')\n",
    "    plt.savefig(\"filename.png\")\n",
    "    plt.show()"
   ]
  },
  {
   "cell_type": "code",
   "execution_count": 622,
   "metadata": {},
   "outputs": [],
   "source": [
    "def pairgrid_heatmap(x, y, **kws):\n",
    "        cmap = sns.light_palette(kws.pop(\"color\"), as_cmap=True)\n",
    "        plt.hist2d(x, y, cmap=cmap, cmin=1, **kws)\n",
    "\n",
    "\n",
    "def plot_correlation_heatmap(numeric_csv_file, title1, title2, question_list):\n",
    "    correlation = cal_corelation(numeric_csv_file, title1, title2, question_list)\n",
    "#     sns.set(style=\"ticks\", color_codes=True)\n",
    "    two_columns = numeric_csv_file[[title1, title2]].dropna()\n",
    "    \n",
    "    plt.rcParams['font.sans-serif'] = ['Microsoft JhengHei']\n",
    "    plt.rcParams['axes.unicode_minus'] = False\n",
    "    \n",
    "    g = sns.PairGrid(two_columns)\n",
    "    g = g.map_upper(plt.scatter,marker='+')\n",
    "    g = g.map_lower(sns.kdeplot, cmap=\"hot\",shade=True)\n",
    "    g = g.map_diag(sns.kdeplot, shade=True)\n",
    "    g.fig.suptitle(f'相關(correlation): {\"{:.5f}\".format(round(correlation, 5))}', fontsize=\"14\", color=\"g\", fontweight=\"bold\", style=\"italic\", fontstyle='italic')\n",
    "#     sns.kdeplot(numeric_csv_file[title1], numeric_csv_file[title2], cmap=\"hot\",shade=True)\n",
    "    plt.savefig(\"filename.png\")\n",
    "    plt.show()\n"
   ]
  },
  {
   "cell_type": "code",
   "execution_count": 630,
   "metadata": {
    "scrolled": true
   },
   "outputs": [
    {
     "data": {
      "image/png": "[encoded data removed]",
      "text/plain": [
       "<Figure size 432x288 with 1 Axes>"
      ]
     },
     "metadata": {},
     "output_type": "display_data"
    },
    {
     "name": "stdout",
     "output_type": "stream",
     "text": [
      "97\n",
      "{5.0: 6, 2.5: 2, 4.0: 40, 3.5: 33, 3.0: 11, 4.5: 5}\n"
     ]
    }
   ],
   "source": [
    "main_path = os.getcwd()\n",
    "# font = font_manager.FontProperties(fname=r'C:\\Windows\\Fonts\\msyhbd.ttc').get_name()\n",
    "# matplotlib.rc('font', family=font)\n",
    "\n",
    "csv_path = os.path.join(main_path, \"original_text.csv\")\n",
    "numeric_csv_path = os.path.join(main_path, \"original_numeric.csv\")\n",
    "\n",
    "csv_file = pd.read_csv(csv_path)\n",
    "numeric_csv_file = pd.read_csv(numeric_csv_path)\n",
    "original_numeric_csv_file = numeric_csv_file.iloc[:, 18:].copy()\n",
    "\n",
    "question_list = csv_file.iloc[0].to_list()\n",
    "original_question_list = question_list.copy()\n",
    "csv_file = csv_file.iloc[5:]\n",
    "\n",
    "numeric_csv_file, question_list = merge_question_with_part(numeric_csv_file, question_list)\n",
    "# numeric_csv_file = numeric_csv_file.iloc[5:]\n",
    "# numeric_csv_file.to_csv(\"original_numeric.csv\", encoding=\"utf_8_sig\")\n",
    "\n",
    "# plot_correlation_heatmap(original_numeric_csv_file, \"Q1_4\", \"Q23\", question_list)\n",
    "plot_pie_chart(numeric_csv_file, question_list, \"Q2\")\n",
    "# get_corr_matrix(numeric_csv_file, question_list)\n",
    "\n",
    "# cal_corelation(numeric_csv_file, \"Q1_4\", \"Q23\", question_list)\n",
    "# plot_pie_chart(csv_file, question_list, \"Q6\")\n",
    "# csv_file.to_csv(\"abc.csv\", encoding=\"utf_8_sig\")"
   ]
  },
  {
   "cell_type": "code",
   "execution_count": null,
   "metadata": {},
   "outputs": [],
   "source": []
  }
 ],
 "metadata": {
  "kernelspec": {
   "display_name": "Python 3",
   "language": "python",
   "name": "python3"
  },
  "language_info": {
   "codemirror_mode": {
    "name": "ipython",
    "version": 3
   },
   "file_extension": ".py",
   "mimetype": "text/x-python",
   "name": "python",
   "nbconvert_exporter": "python",
   "pygments_lexer": "ipython3",
   "version": "3.8.3"
  }
 },
 "nbformat": 4,
 "nbformat_minor": 4
}
